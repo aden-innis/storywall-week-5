{
  "nbformat": 4,
  "nbformat_minor": 0,
  "metadata": {
    "colab": {
      "provenance": [],
      "gpuType": "T4",
      "authorship_tag": "ABX9TyPxNgyyrGk7sHtY9fbCTamH",
      "include_colab_link": true
    },
    "kernelspec": {
      "name": "python3",
      "display_name": "Python 3"
    },
    "language_info": {
      "name": "python"
    },
    "accelerator": "GPU"
  },
  "cells": [
    {
      "cell_type": "markdown",
      "metadata": {
        "id": "view-in-github",
        "colab_type": "text"
      },
      "source": [
        "<a href=\"https://colab.research.google.com/github/aden-innis/storywall-week-5/blob/main/Storywall_5.ipynb\" target=\"_parent\"><img src=\"https://colab.research.google.com/assets/colab-badge.svg\" alt=\"Open In Colab\"/></a>"
      ]
    },
    {
      "cell_type": "code",
      "execution_count": null,
      "metadata": {
        "id": "8K7lL4gVpp-F"
      },
      "outputs": [],
      "source": [
        "import random\n",
        "from pathlib import Path\n",
        "\n",
        "import matplotlib.pyplot as plt\n",
        "import numpy as np\n",
        "import numpy.random as rnd\n",
        "import pandas as pd\n",
        "import tensorflow as tf\n",
        "\n",
        "from sklearn.model_selection import train_test_split\n",
        "from tensorflow.keras.callbacks import EarlyStopping\n",
        "from tensorflow.keras.layers import Dense\n",
        "from tensorflow.keras.metrics import SparseTopKCategoricalAccuracy\n",
        "from tensorflow.keras.models import Sequential\n",
        "\n",
        "from tensorflow import keras\n",
        "from tensorflow.keras import layers"
      ]
    },
    {
      "cell_type": "code",
      "source": [
        "from pathlib import Path\n",
        "\n",
        "if not Path(\"NHTSA_NMVCCS_extract.parquet.gzip\").exists():\n",
        "    print(\"Downloading dataset\")\n",
        "    !wget https://github.com/JSchelldorfer/ActuarialDataScience/raw/master/12%20-%20NLP%20Using%20Transformers/NHTSA_NMVCCS_extract.parquet.gzip\n",
        "\n",
        "df = pd.read_parquet(\"NHTSA_NMVCCS_extract.parquet.gzip\")\n",
        "print(f\"shape of DataFrame: {df.shape}\")"
      ],
      "metadata": {
        "colab": {
          "base_uri": "https://localhost:8080/"
        },
        "id": "IBvenDu8IqmV",
        "outputId": "a88ae0ad-4a97-4a61-abdb-852c6ab1bae8"
      },
      "execution_count": null,
      "outputs": [
        {
          "output_type": "stream",
          "name": "stdout",
          "text": [
            "shape of DataFrame: (6949, 16)\n"
          ]
        }
      ]
    },
    {
      "cell_type": "code",
      "source": [
        "df[\"SUMMARY_EN\"]"
      ],
      "metadata": {
        "colab": {
          "base_uri": "https://localhost:8080/"
        },
        "id": "FQuQ4YCHIsGJ",
        "outputId": "8deed682-a4a7-4748-d8a9-1a415385c791"
      },
      "execution_count": null,
      "outputs": [
        {
          "output_type": "execute_result",
          "data": {
            "text/plain": [
              "0       V1, a 2000 Pontiac Montana minivan, made a lef...\n",
              "1       The crash occurred in the eastbound lane of a ...\n",
              "2       This crash occurred just after the noon time h...\n",
              "3       This single vehicle crash occurred just before...\n",
              "4       The crash occurred on a two lane undivided lev...\n",
              "                              ...                        \n",
              "6944    The crash occurred at a three-way intersection...\n",
              "6945    The crash occurred in the northbound lanes of ...\n",
              "6946    The crash occurred in the eastbound lanes of a...\n",
              "6947    This single-vehicle crash occurred in a rural ...\n",
              "6948    This two vehicle daytime collision occurred mi...\n",
              "Name: SUMMARY_EN, Length: 6949, dtype: object"
            ]
          },
          "metadata": {},
          "execution_count": 27
        }
      ]
    },
    {
      "cell_type": "code",
      "source": [
        "# Replace every \\r with \\n\n",
        "def replace_carriage_return(summary):\n",
        "    return summary.replace(\"\\r\", \"\\n\")\n",
        "\n",
        "df[\"SUMMARY_EN\"] = df[\"SUMMARY_EN\"].map(replace_carriage_return)\n",
        "print(df[\"SUMMARY_EN\"].iloc[1][:500])"
      ],
      "metadata": {
        "colab": {
          "base_uri": "https://localhost:8080/"
        },
        "id": "qgJMj-_bIseQ",
        "outputId": "5a65b658-23e0-44ef-8f99-9a72a2b1a595"
      },
      "execution_count": null,
      "outputs": [
        {
          "output_type": "stream",
          "name": "stdout",
          "text": [
            "The crash occurred in the eastbound lane of a two-lane, two-way asphalt roadway on level grade.  The conditions were daylight and wet with cloudy skies in the early afternoon on a weekday.\t\n",
            " \n",
            " V1, a 1995 Chevrolet Lumina was traveling eastbound.  V2, a 2004 Chevrolet Trailblazer was also traveling eastbound on the same roadway.  V2, was attempting to make a left-hand turn into a private drive on the North side of the roadway.  While turning V1 attempted to pass V2 on the left-hand side contactin\n"
          ]
        }
      ]
    },
    {
      "cell_type": "code",
      "source": [
        "df.info()"
      ],
      "metadata": {
        "colab": {
          "base_uri": "https://localhost:8080/"
        },
        "id": "ZG1oPfhKJIkT",
        "outputId": "b33fc54a-b021-4dd3-ef85-afacad9067f8"
      },
      "execution_count": null,
      "outputs": [
        {
          "output_type": "stream",
          "name": "stdout",
          "text": [
            "<class 'pandas.core.frame.DataFrame'>\n",
            "RangeIndex: 6949 entries, 0 to 6948\n",
            "Data columns (total 16 columns):\n",
            " #   Column      Non-Null Count  Dtype \n",
            "---  ------      --------------  ----- \n",
            " 0   level_0     6949 non-null   int64 \n",
            " 1   index       6949 non-null   int64 \n",
            " 2   SCASEID     6949 non-null   int64 \n",
            " 3   SUMMARY_EN  6949 non-null   object\n",
            " 4   SUMMARY_GE  6949 non-null   object\n",
            " 5   INJSEVA     6949 non-null   int64 \n",
            " 6   NUMTOTV     6949 non-null   int64 \n",
            " 7   WEATHER1    6949 non-null   int64 \n",
            " 8   WEATHER2    6949 non-null   int64 \n",
            " 9   WEATHER3    6949 non-null   int64 \n",
            " 10  WEATHER4    6949 non-null   int64 \n",
            " 11  WEATHER5    6949 non-null   int64 \n",
            " 12  WEATHER6    6949 non-null   int64 \n",
            " 13  WEATHER7    6949 non-null   int64 \n",
            " 14  WEATHER8    6949 non-null   int64 \n",
            " 15  INJSEVB     6949 non-null   int64 \n",
            "dtypes: int64(14), object(2)\n",
            "memory usage: 868.8+ KB\n"
          ]
        }
      ]
    },
    {
      "cell_type": "code",
      "source": [
        "df['INJSEVB'].value_counts()"
      ],
      "metadata": {
        "colab": {
          "base_uri": "https://localhost:8080/"
        },
        "id": "vEqgHYl3JgNs",
        "outputId": "2de022a0-5e80-46e6-acc9-86cae5b28afa"
      },
      "execution_count": null,
      "outputs": [
        {
          "output_type": "execute_result",
          "data": {
            "text/plain": [
              "0    3935\n",
              "1    3014\n",
              "Name: INJSEVB, dtype: int64"
            ]
          },
          "metadata": {},
          "execution_count": 30
        }
      ]
    },
    {
      "cell_type": "code",
      "source": [
        "from sklearn.preprocessing import LabelEncoder\n",
        "target_labels = df[\"INJSEVB\"]\n",
        "target = LabelEncoder().fit_transform(target_labels)\n",
        "target"
      ],
      "metadata": {
        "colab": {
          "base_uri": "https://localhost:8080/"
        },
        "id": "kbJQTsYZKC-0",
        "outputId": "3ecfb5a1-b5f5-4f24-eb74-24d234a5070a"
      },
      "execution_count": null,
      "outputs": [
        {
          "output_type": "execute_result",
          "data": {
            "text/plain": [
              "array([1, 0, 0, ..., 0, 0, 0])"
            ]
          },
          "metadata": {},
          "execution_count": 31
        }
      ]
    },
    {
      "cell_type": "code",
      "source": [
        "weather_cols = [f\"WEATHER{i}\" for i in range(1, 9)]\n",
        "features = df[[\"SUMMARY_EN\"] + weather_cols]\n",
        "\n",
        "X_main, X_test, y_main, y_test = \\\n",
        "    train_test_split(features, target, test_size=0.2, random_state=1)\n",
        "\n",
        "# As 0.25 x 0.8 = 0.2\n",
        "X_train, X_val, y_train, y_val = \\\n",
        "    train_test_split(X_main, y_main, test_size=0.25, random_state=1)\n",
        "\n",
        "X_train.shape, X_val.shape, X_test.shape"
      ],
      "metadata": {
        "colab": {
          "base_uri": "https://localhost:8080/"
        },
        "id": "J1YH6zLiKRcn",
        "outputId": "b2a48d47-34f8-4f95-84b5-dac9e53398a9"
      },
      "execution_count": null,
      "outputs": [
        {
          "output_type": "execute_result",
          "data": {
            "text/plain": [
              "((4169, 9), (1390, 9), (1390, 9))"
            ]
          },
          "metadata": {},
          "execution_count": 32
        }
      ]
    },
    {
      "cell_type": "code",
      "source": [
        "print([np.mean(y_train == y) for y in [0, 1]])"
      ],
      "metadata": {
        "colab": {
          "base_uri": "https://localhost:8080/"
        },
        "id": "ut4gs-CkKW8H",
        "outputId": "221b851a-363f-42a5-9619-b3a8d7d19cca"
      },
      "execution_count": null,
      "outputs": [
        {
          "output_type": "stream",
          "name": "stdout",
          "text": [
            "[0.5739985608059487, 0.4260014391940513]\n"
          ]
        }
      ]
    },
    {
      "cell_type": "code",
      "source": [
        "from sklearn.feature_extraction.text import CountVectorizer\n",
        "\n",
        "vect = CountVectorizer(ngram_range=(1,3), max_features=1000, stop_words=\"english\")\n",
        "vect.fit(X_train[\"SUMMARY_EN\"])\n",
        "vocab = list(vect.get_feature_names_out())\n",
        "len(vocab)"
      ],
      "metadata": {
        "colab": {
          "base_uri": "https://localhost:8080/"
        },
        "id": "WdccqwBrKbJC",
        "outputId": "77a80017-66a6-435c-8b6c-4fc69742470d"
      },
      "execution_count": null,
      "outputs": [
        {
          "output_type": "execute_result",
          "data": {
            "text/plain": [
              "1000"
            ]
          },
          "metadata": {},
          "execution_count": 34
        }
      ]
    },
    {
      "cell_type": "code",
      "source": [
        "def vectorise_dataset(X, vect, txt_col=\"SUMMARY_EN\", dataframe=False):\n",
        "    X_vects = vect.transform(X[txt_col]).toarray()\n",
        "    X_other = X.drop(txt_col, axis=1)\n",
        "\n",
        "    if not dataframe:\n",
        "        return np.concatenate([X_vects, X_other], axis=1)\n",
        "    else:\n",
        "        # Add column names and indices to the combined dataframe.\n",
        "        vocab = list(vect.get_feature_names_out())\n",
        "        X_vects_df = pd.DataFrame(X_vects, columns=vocab, index=X.index)\n",
        "        return pd.concat([X_vects_df, X_other], axis=1)"
      ],
      "metadata": {
        "id": "DILBiiwxK79m"
      },
      "execution_count": null,
      "outputs": []
    },
    {
      "cell_type": "code",
      "source": [
        "X_train_ct = vectorise_dataset(X_train, vect)\n",
        "X_val_ct = vectorise_dataset(X_val, vect)\n",
        "X_test_ct = vectorise_dataset(X_test, vect)"
      ],
      "metadata": {
        "id": "zc_GqSV1Lq52"
      },
      "execution_count": null,
      "outputs": []
    },
    {
      "cell_type": "code",
      "source": [
        "num_features = X_train_ct.shape[1]\n",
        "num_cats = 2 # 1, 2 vehicles\n",
        "\n",
        "def build_model(num_features, num_cats):\n",
        "    random.seed(42)\n",
        "\n",
        "    model = Sequential([\n",
        "        Dense(100, input_dim=num_features, activation=\"relu\"),\n",
        "        Dense(num_cats, activation=\"softmax\")\n",
        "    ])\n",
        "\n",
        "\n",
        "    model.compile(\"adam\", \"SparseCategoricalCrossentropy\",\n",
        "        metrics=[\"accuracy\"])\n",
        "\n",
        "    return model"
      ],
      "metadata": {
        "id": "DOHkswhLLxbG"
      },
      "execution_count": null,
      "outputs": []
    },
    {
      "cell_type": "code",
      "source": [
        "model1 = build_model(num_features, num_cats)\n",
        "model1.summary()"
      ],
      "metadata": {
        "colab": {
          "base_uri": "https://localhost:8080/"
        },
        "id": "d05oqe06MrT2",
        "outputId": "3c5ab3bb-c5d6-43d7-9d42-443bf35faf2c"
      },
      "execution_count": null,
      "outputs": [
        {
          "output_type": "stream",
          "name": "stdout",
          "text": [
            "Model: \"sequential_1\"\n",
            "_________________________________________________________________\n",
            " Layer (type)                Output Shape              Param #   \n",
            "=================================================================\n",
            " dense_2 (Dense)             (None, 100)               100900    \n",
            "                                                                 \n",
            " dense_3 (Dense)             (None, 2)                 202       \n",
            "                                                                 \n",
            "=================================================================\n",
            "Total params: 101,102\n",
            "Trainable params: 101,102\n",
            "Non-trainable params: 0\n",
            "_________________________________________________________________\n"
          ]
        }
      ]
    },
    {
      "cell_type": "code",
      "source": [
        "es = EarlyStopping(patience=1, restore_best_weights=True,\n",
        "    monitor=\"val_accuracy\", verbose=2)\n",
        "%time hist = model1.fit(X_train_ct, y_train, epochs=10, \\\n",
        "    callbacks=[es], validation_data=(X_val_ct, y_val), verbose=0);"
      ],
      "metadata": {
        "colab": {
          "base_uri": "https://localhost:8080/"
        },
        "id": "09diUrwLMmFE",
        "outputId": "63ab6e09-6def-4c1f-89d3-bf1a579447f1"
      },
      "execution_count": null,
      "outputs": [
        {
          "output_type": "stream",
          "name": "stdout",
          "text": [
            "Restoring model weights from the end of the best epoch: 2.\n",
            "Epoch 3: early stopping\n",
            "CPU times: user 2.41 s, sys: 157 ms, total: 2.57 s\n",
            "Wall time: 2.21 s\n"
          ]
        }
      ]
    },
    {
      "cell_type": "code",
      "source": [
        "model1.evaluate(X_val_ct, y_val, verbose=0)"
      ],
      "metadata": {
        "colab": {
          "base_uri": "https://localhost:8080/"
        },
        "id": "voPSjGoDRhbt",
        "outputId": "1e29059b-8d5a-4afd-aae6-73a6a6864e2e"
      },
      "execution_count": null,
      "outputs": [
        {
          "output_type": "execute_result",
          "data": {
            "text/plain": [
              "[7.025191307067871, 0.8827338218688965]"
            ]
          },
          "metadata": {},
          "execution_count": 40
        }
      ]
    },
    {
      "cell_type": "code",
      "source": [
        "model1.evaluate(X_val_ct, y_val, verbose=0)"
      ],
      "metadata": {
        "colab": {
          "base_uri": "https://localhost:8080/"
        },
        "id": "GYdG0NHXM0oj",
        "outputId": "e73703ee-7c01-42ba-d7cf-bd12184fb559"
      },
      "execution_count": null,
      "outputs": [
        {
          "output_type": "execute_result",
          "data": {
            "text/plain": [
              "[7.025191307067871, 0.8827338218688965]"
            ]
          },
          "metadata": {},
          "execution_count": 41
        }
      ]
    },
    {
      "cell_type": "code",
      "source": [
        "accuracy1 = model1.evaluate(X_test_ct, y_test, verbose=0)[1]"
      ],
      "metadata": {
        "id": "drbcvtvEMonl"
      },
      "execution_count": null,
      "outputs": []
    },
    {
      "cell_type": "code",
      "source": [
        "import spacy\n",
        "nlp = spacy.load(\"en_core_web_sm\")\n",
        "def lemmatize(txt):\n",
        "    doc = nlp(txt)\n",
        "    good_tokens = [token.lemma_.lower() for token in doc \\\n",
        "        if not token.like_num and \\\n",
        "           not token.is_punct and \\\n",
        "           not token.is_space and \\\n",
        "           not token.is_currency and \\\n",
        "           not token.is_stop]\n",
        "    return \" \".join(good_tokens)"
      ],
      "metadata": {
        "id": "48k7WGwgNe_H"
      },
      "execution_count": null,
      "outputs": []
    },
    {
      "cell_type": "code",
      "source": [
        "df[\"SUMMARY_EN_LEMMA\"] = df[\"SUMMARY_EN\"].map(lemmatize)"
      ],
      "metadata": {
        "id": "oCVPyR2rN0Y7"
      },
      "execution_count": null,
      "outputs": []
    },
    {
      "cell_type": "code",
      "source": [
        "weather_cols = [f\"WEATHER{i}\" for i in range(1, 9)]\n",
        "features = df[[\"SUMMARY_EN_LEMMA\"] + weather_cols]\n",
        "\n",
        "X_main_2, X_test_2, y_main_2, y_test_2 = \\\n",
        "    train_test_split(features, target, test_size=0.2, random_state=1)\n",
        "\n",
        "# As 0.25 x 0.8 = 0.2\n",
        "X_train_2, X_val_2, y_train_2, y_val_2 = \\\n",
        "    train_test_split(X_main_2, y_main_2, test_size=0.25, random_state=1)\n",
        "\n",
        "X_train_2.shape, X_val_2.shape, X_test_2.shape"
      ],
      "metadata": {
        "colab": {
          "base_uri": "https://localhost:8080/"
        },
        "id": "jNIA7iXKOJDH",
        "outputId": "1bd3b71f-2890-4668-ac3f-f6476424a689"
      },
      "execution_count": null,
      "outputs": [
        {
          "output_type": "execute_result",
          "data": {
            "text/plain": [
              "((4169, 9), (1390, 9), (1390, 9))"
            ]
          },
          "metadata": {},
          "execution_count": 51
        }
      ]
    },
    {
      "cell_type": "code",
      "source": [
        "vect = CountVectorizer(max_features=1_000, stop_words=\"english\")\n",
        "vect.fit(X_train_2[\"SUMMARY_EN_LEMMA\"])\n",
        "vocab = vect.get_feature_names_out()\n",
        "len(vocab)"
      ],
      "metadata": {
        "colab": {
          "base_uri": "https://localhost:8080/"
        },
        "id": "1LsW5z3FORf8",
        "outputId": "8c63f134-ebb8-49d0-fe5c-3ea9fb0dd766"
      },
      "execution_count": null,
      "outputs": [
        {
          "output_type": "execute_result",
          "data": {
            "text/plain": [
              "1000"
            ]
          },
          "metadata": {},
          "execution_count": 54
        }
      ]
    },
    {
      "cell_type": "code",
      "source": [
        "X_train_ct_2 = vectorise_dataset(X_train_2, vect, \"SUMMARY_EN_LEMMA\")\n",
        "X_val_ct_2 = vectorise_dataset(X_val_2, vect, \"SUMMARY_EN_LEMMA\")\n",
        "X_test_ct_2 = vectorise_dataset(X_test_2, vect, \"SUMMARY_EN_LEMMA\")"
      ],
      "metadata": {
        "id": "qHs5oPPxOVE7"
      },
      "execution_count": null,
      "outputs": []
    },
    {
      "cell_type": "code",
      "source": [
        "num_features = X_train_ct_2.shape[1]\n",
        "model2 = build_model(num_features, num_cats)\n",
        "model2.summary()"
      ],
      "metadata": {
        "colab": {
          "base_uri": "https://localhost:8080/"
        },
        "id": "92MU-Im_OWa1",
        "outputId": "11ef6d8e-e2fc-42ab-d372-11e68e06b797"
      },
      "execution_count": null,
      "outputs": [
        {
          "output_type": "stream",
          "name": "stdout",
          "text": [
            "Model: \"sequential_2\"\n",
            "_________________________________________________________________\n",
            " Layer (type)                Output Shape              Param #   \n",
            "=================================================================\n",
            " dense_4 (Dense)             (None, 100)               100900    \n",
            "                                                                 \n",
            " dense_5 (Dense)             (None, 2)                 202       \n",
            "                                                                 \n",
            "=================================================================\n",
            "Total params: 101,102\n",
            "Trainable params: 101,102\n",
            "Non-trainable params: 0\n",
            "_________________________________________________________________\n"
          ]
        }
      ]
    },
    {
      "cell_type": "code",
      "source": [
        "es = EarlyStopping(patience=1, restore_best_weights=True,\n",
        "    monitor=\"val_accuracy\", verbose=2)\n",
        "%time hist = model2.fit(X_train_ct_2, y_train_2, epochs=10, \\\n",
        "    callbacks=[es], validation_data=(X_val_ct_2, y_val_2), verbose=0);"
      ],
      "metadata": {
        "colab": {
          "base_uri": "https://localhost:8080/"
        },
        "id": "I3uY5f40QM6X",
        "outputId": "642cab5c-800c-408e-a338-09ef76d1a481"
      },
      "execution_count": null,
      "outputs": [
        {
          "output_type": "stream",
          "name": "stdout",
          "text": [
            "Restoring model weights from the end of the best epoch: 1.\n",
            "Epoch 2: early stopping\n",
            "CPU times: user 2.05 s, sys: 113 ms, total: 2.16 s\n",
            "Wall time: 2.06 s\n"
          ]
        }
      ]
    },
    {
      "cell_type": "code",
      "source": [
        "model2.evaluate(X_train_ct_2, y_train_2, verbose=0)"
      ],
      "metadata": {
        "colab": {
          "base_uri": "https://localhost:8080/"
        },
        "id": "SYlz0Di3QPPh",
        "outputId": "dfcb6f5c-29ca-4587-fc4c-4c277dd893e5"
      },
      "execution_count": null,
      "outputs": [
        {
          "output_type": "execute_result",
          "data": {
            "text/plain": [
              "[0.24901746213436127, 0.9186855554580688]"
            ]
          },
          "metadata": {},
          "execution_count": 58
        }
      ]
    },
    {
      "cell_type": "code",
      "source": [
        "accuracy2 = model2.evaluate(X_val_ct_2, y_val_2, verbose=0)[1]"
      ],
      "metadata": {
        "id": "bivqk9YmQRsQ"
      },
      "execution_count": null,
      "outputs": []
    },
    {
      "cell_type": "code",
      "source": [
        "def permutation_test(model, X, y, num_reps=1, seed=42):\n",
        "    \"\"\"\n",
        "    Run the permutation test for variable importance.\n",
        "    Returns matrix of shape (X.shape[1], len(model.evaluate(X, y))).\n",
        "    \"\"\"\n",
        "    rnd.seed(seed)\n",
        "    scores = []\n",
        "\n",
        "    for j in range(X.shape[1]):\n",
        "        original_column = np.copy(X[:, j])\n",
        "        col_scores = []\n",
        "\n",
        "        for r in range(num_reps):\n",
        "            rnd.shuffle(X[:,j])\n",
        "            col_scores.append(model.evaluate(X, y, verbose=0))\n",
        "\n",
        "        scores.append(np.mean(col_scores, axis=0))\n",
        "        X[:,j] = original_column\n",
        "\n",
        "    return np.array(scores)"
      ],
      "metadata": {
        "id": "LBvR-7hBQYpJ"
      },
      "execution_count": null,
      "outputs": []
    },
    {
      "cell_type": "code",
      "source": [
        "print(accuracy1)\n",
        "print(accuracy2)"
      ],
      "metadata": {
        "colab": {
          "base_uri": "https://localhost:8080/"
        },
        "id": "5JZFg429UAex",
        "outputId": "69531129-0291-456c-b6e2-75266fd194c0"
      },
      "execution_count": null,
      "outputs": [
        {
          "output_type": "stream",
          "name": "stdout",
          "text": [
            "0.8892086148262024\n",
            "0.8647481799125671\n"
          ]
        }
      ]
    },
    {
      "cell_type": "code",
      "source": [
        "if accuracy1 > accuracy2:\n",
        "  best_model = model1\n",
        "  vect = CountVectorizer(ngram_range=(1,3), max_features=1000, stop_words=\"english\")\n",
        "  vect.fit(X_train[\"SUMMARY_EN\"])\n",
        "  vocab = list(vect.get_feature_names_out())\n",
        "  len(vocab)\n",
        "else:\n",
        "  best_model = model2\n",
        "  X_val_ct = X_val_ct_2"
      ],
      "metadata": {
        "id": "mCqxNlkGSoQt"
      },
      "execution_count": null,
      "outputs": []
    },
    {
      "cell_type": "code",
      "source": [
        "perm_scores = permutation_test(best_model, X_val_ct, y_val)[:,1]\n",
        "plt.plot(perm_scores);\n",
        "plt.xlabel(\"Input index\"); plt.ylabel(\"Accuracy when shuffled\");"
      ],
      "metadata": {
        "colab": {
          "base_uri": "https://localhost:8080/",
          "height": 449
        },
        "id": "2VMecdD1QbNJ",
        "outputId": "9f6e04a1-30a3-47af-c501-5115f6f14bf7"
      },
      "execution_count": null,
      "outputs": [
        {
          "output_type": "display_data",
          "data": {
            "text/plain": [
              "<Figure size 640x480 with 1 Axes>"
            ],
            "image/png": "[encoded data removed]"
          },
          "metadata": {}
        }
      ]
    },
    {
      "cell_type": "code",
      "source": [
        "\n",
        "vocab = vect.get_feature_names_out()\n",
        "input_cols = list(vocab) + weather_cols\n",
        "\n",
        "best_input_inds = np.argsort(perm_scores)[:5]\n",
        "best_inputs = [input_cols[idx] for idx in best_input_inds]\n",
        "\n",
        "print(best_inputs)"
      ],
      "metadata": {
        "colab": {
          "base_uri": "https://localhost:8080/"
        },
        "id": "n7RxZ8X8Qgas",
        "outputId": "a3064ca8-6684-4303-8b73-9dbf7382a1e9"
      },
      "execution_count": null,
      "outputs": [
        {
          "output_type": "stream",
          "name": "stdout",
          "text": [
            "['transported', 'injuries', 'v2', 'hospital', 'minor']\n"
          ]
        }
      ]
    }
  ]
}